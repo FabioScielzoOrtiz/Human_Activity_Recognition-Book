{
 "cells": [
  {
   "cell_type": "markdown",
   "metadata": {},
   "source": [
    "# **Conclusions**"
   ]
  },
  {
   "cell_type": "markdown",
   "metadata": {},
   "source": [
    "In this project, we have developed a pipeline for human activity recognition using signal data. We started by preprocessing the data and extracting relevant features. We then trained multiple machine learning models and evaluated their performance using cross-validation.\n",
    "\n",
    "After evaluating the models, we selected the best pipeline based on its performance. The selected pipeline achieved outstanding accuracy in recognizing human activities, with high accuracy for walking, standing, sitting, and lying activities. However, it had a slightly lower accuracy for the running activity.\n",
    "\n",
    "We saved the final pipeline as a pre-trained model and used it to predict the activities of new individuals based on their signal data. The predictions were saved in the original data format for further analysis.\n",
    "\n",
    "Overall, this project demonstrates the effectiveness of using machine learning techniques for human activity recognition. The developed pipeline can be used in various applications, such as healthcare monitoring and fitness tracking. Further improvements can be made by exploring different feature extraction techniques and optimizing the model hyperparameters. We can say that the project objective has been fulfilled."
   ]
  }
 ],
 "metadata": {
  "language_info": {
   "name": "python"
  }
 },
 "nbformat": 4,
 "nbformat_minor": 2
}