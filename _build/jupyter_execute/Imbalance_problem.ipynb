{
 "cells": [
  {
   "cell_type": "markdown",
   "metadata": {},
   "source": [
    "# **Imbalance classification problem**"
   ]
  },
  {
   "cell_type": "code",
   "execution_count": 574,
   "metadata": {},
   "outputs": [
    {
     "name": "stdout",
     "output_type": "stream",
     "text": [
      "Unique values of the response and their frequencies in the available data: {1: 300, 2: 1836, 3: 2613, 4: 2536, 5: 1551}\n"
     ]
    }
   ],
   "source": [
    "unique_values, frequencies = np.unique(Y, return_counts=True)\n",
    "print(f'Unique values of the response and their frequencies in the available data: {dict(zip(unique_values,frequencies))}')"
   ]
  },
  {
   "cell_type": "markdown",
   "metadata": {},
   "source": [
    "The classification problem is imbalance since the frequencies distribution of the response variable is imbalance.\n",
    "\n",
    "These is an important fact to consider since affects to both the ML models and the error metric. \n",
    "\n",
    "- **Error metric:** in imbalanced problems accuracy is bias by the most dominant classes of the response, and, therefore, it mostly reflects the predictive performance of the models in those dominant classes, so that, if a model perform outstanding in the dominant clases but poorly in the not dominant the accuracy will be outstanding when it shouldn't be like this. \n",
    "To mitigate this issue *balanced accuracy* will be used.\n",
    "\n",
    "- **Models:** in imbalanced classification problems ML models usually learn patterns related with the dominant classes, and due to this perform well classifying instances belonging to dominant classes but poorly those belonging to not dominant. To overcome this issue there are several strategies like *over/under sampling* and *weighting observations* according to classes frequencies. In this project the second approach will be considered for certain models."
   ]
  }
 ],
 "metadata": {
  "kernelspec": {
   "display_name": "base",
   "language": "python",
   "name": "python3"
  },
  "language_info": {
   "codemirror_mode": {
    "name": "ipython",
    "version": 3
   },
   "file_extension": ".py",
   "mimetype": "text/x-python",
   "name": "python",
   "nbconvert_exporter": "python",
   "pygments_lexer": "ipython3",
   "version": "3.11.5"
  }
 },
 "nbformat": 4,
 "nbformat_minor": 2
}