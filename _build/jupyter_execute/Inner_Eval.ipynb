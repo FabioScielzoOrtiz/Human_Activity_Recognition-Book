{
 "cells": [
  {
   "cell_type": "markdown",
   "metadata": {},
   "source": [
    "# **Inner Evaluation**"
   ]
  },
  {
   "cell_type": "markdown",
   "metadata": {},
   "source": [
    "## **Defining outer evaluation method**"
   ]
  },
  {
   "cell_type": "markdown",
   "metadata": {},
   "source": [
    "### **Train-Test Split**"
   ]
  },
  {
   "cell_type": "code",
   "execution_count": 575,
   "metadata": {},
   "outputs": [],
   "source": [
    "train_prop = 0.85\n",
    "train_size = int(np.round(train_prop*n_individuals))\n",
    "individuals_idx = range(n_individuals)\n",
    "np.random.seed(123)\n",
    "train_individuals = np.random.choice(individuals_idx, train_size, replace=False)\n",
    "test_individuals = np.array([x for x in individuals_idx if x not in train_individuals])"
   ]
  },
  {
   "cell_type": "code",
   "execution_count": 576,
   "metadata": {},
   "outputs": [
    {
     "data": {
      "text/plain": [
       "array([0, 1, 3, 7, 4, 2, 5])"
      ]
     },
     "execution_count": 576,
     "metadata": {},
     "output_type": "execute_result"
    }
   ],
   "source": [
    "train_individuals"
   ]
  },
  {
   "cell_type": "code",
   "execution_count": 577,
   "metadata": {},
   "outputs": [
    {
     "data": {
      "text/plain": [
       "7"
      ]
     },
     "execution_count": 577,
     "metadata": {},
     "output_type": "execute_result"
    }
   ],
   "source": [
    "len(train_individuals)"
   ]
  },
  {
   "cell_type": "code",
   "execution_count": 578,
   "metadata": {},
   "outputs": [
    {
     "data": {
      "text/plain": [
       "array([6])"
      ]
     },
     "execution_count": 578,
     "metadata": {},
     "output_type": "execute_result"
    }
   ],
   "source": [
    "test_individuals"
   ]
  },
  {
   "cell_type": "code",
   "execution_count": 579,
   "metadata": {},
   "outputs": [
    {
     "data": {
      "text/plain": [
       "1"
      ]
     },
     "execution_count": 579,
     "metadata": {},
     "output_type": "execute_result"
    }
   ],
   "source": [
    "len(test_individuals)"
   ]
  },
  {
   "cell_type": "markdown",
   "metadata": {},
   "source": [
    "Building the training a testing lists `X_HAR` and `Y_HAR` defined above. The same as before but considering training and testing individuals separately."
   ]
  },
  {
   "cell_type": "code",
   "execution_count": 580,
   "metadata": {},
   "outputs": [],
   "source": [
    "X_HAR_train = [HAR_database['database_training'][i][0] for i in train_individuals]\n",
    "Y_HAR_train = [HAR_database['database_training'][i][1][0] for i in train_individuals]\n",
    "\n",
    "X_HAR_test = [HAR_database['database_training'][i][0] for i in test_individuals]\n",
    "Y_HAR_test = [HAR_database['database_training'][i][1][0] for i in test_individuals]"
   ]
  },
  {
   "cell_type": "markdown",
   "metadata": {},
   "source": [
    "The training raw signals matrices list:"
   ]
  },
  {
   "cell_type": "code",
   "execution_count": 581,
   "metadata": {},
   "outputs": [
    {
     "data": {
      "text/plain": [
       "[array([[ 0.02417325,  0.01990478,  0.03474859, ...,  0.15302195,\n",
       "          0.16644707,  0.13097667],\n",
       "        [ 0.59441693,  0.60247182,  0.52582067, ...,  1.9454901 ,\n",
       "          2.00124793,  1.9890223 ],\n",
       "        [-0.02273627, -0.01287489, -0.0200163 , ...,  0.00468276,\n",
       "         -0.00249675, -0.00409452],\n",
       "        [ 0.11196179,  0.10379559,  0.10319319, ...,  0.11359097,\n",
       "          0.10181863,  0.10699662],\n",
       "        [ 0.06049883,  0.05515676,  0.05754055, ...,  0.04945955,\n",
       "          0.06203927,  0.06837131]]),\n",
       " array([[-0.00614456,  0.09416632,  0.02556427, ...,  0.25846636,\n",
       "          0.26831659,  0.20932986],\n",
       "        [ 0.15163056,  0.27388097,  0.24967994, ...,  1.01129501,\n",
       "          1.00222655,  0.94156865],\n",
       "        [-0.02664025, -0.02277741, -0.00710769, ..., -0.02000222,\n",
       "         -0.0194218 , -0.01871779],\n",
       "        [-0.06663789, -0.08298231, -0.10177238, ..., -0.03517126,\n",
       "         -0.04314523, -0.04061162],\n",
       "        [ 0.24180082,  0.23684254,  0.24130693, ...,  0.24131465,\n",
       "          0.23414938,  0.24768909]]),\n",
       " array([[ 0.05165687,  0.0650987 ,  0.01206259, ...,  0.36555553,\n",
       "          0.26527593,  0.34085031],\n",
       "        [ 0.47503658,  0.55140002,  0.55872758, ...,  1.42290122,\n",
       "          1.47060901,  1.4077758 ],\n",
       "        [ 0.13336841,  0.14036369,  0.13732303, ..., -0.07003494,\n",
       "         -0.07251649, -0.08866671],\n",
       "        [-0.0668408 , -0.07284105, -0.07443974, ...,  0.04751965,\n",
       "          0.04598145,  0.02407247],\n",
       "        [-0.16202343, -0.17998271, -0.20182392, ..., -0.21302053,\n",
       "         -0.23778129, -0.25154395]]),\n",
       " array([[-0.32805745,  0.21316135,  0.07730691, ...,  0.58396364,\n",
       "          0.57248017,  0.58201507],\n",
       "        [ 1.10277907,  0.94095768,  0.89902692, ...,  1.84413557,\n",
       "          1.78376892,  1.81727352],\n",
       "        [-0.07742709, -0.07919505, -0.08941372, ..., -0.0736645 ,\n",
       "         -0.07339881, -0.08894767],\n",
       "        [-0.07629876, -0.10038392, -0.10460145, ..., -0.10174   ,\n",
       "         -0.08993586, -0.09181229],\n",
       "        [ 0.08240638,  0.06781832,  0.06951888, ...,  0.08128702,\n",
       "          0.05290613,  0.06649676]]),\n",
       " array([[-0.08256422,  0.09021634,  0.20833665, ...,  0.37585218,\n",
       "          0.44981253,  0.40607189],\n",
       "        [ 0.53693504,  0.51929183,  0.63409263, ...,  0.83708194,\n",
       "          0.8103373 ,  0.7628346 ],\n",
       "        [ 0.05353819,  0.06431957,  0.11584413, ...,  0.09322134,\n",
       "          0.08182516,  0.08842621],\n",
       "        [ 0.02346034,  0.00344841,  0.05940777, ...,  0.02335576,\n",
       "          0.00431765,  0.02563387],\n",
       "        [-0.20278839, -0.22155068, -0.31653986, ..., -0.2931038 ,\n",
       "         -0.22910937, -0.18418657]]),\n",
       " array([[ 0.01725369,  0.10293477,  0.10819053, ...,  0.71082619,\n",
       "          0.6902869 ,  0.70998775],\n",
       "        [ 0.68158121,  0.69141197,  0.79265585, ...,  0.84186193,\n",
       "          0.8235402 ,  0.832608  ],\n",
       "        [ 0.02417523,  0.04607177,  0.03142754, ...,  0.01269511,\n",
       "          0.00978901,  0.00814963],\n",
       "        [-0.02421756,  0.01368092, -0.01676861, ..., -0.05873524,\n",
       "         -0.04761158, -0.04766088],\n",
       "        [-0.26560293, -0.25658879, -0.26265961, ..., -0.11135749,\n",
       "         -0.10438768, -0.10152   ]]),\n",
       " array([[-0.01256814,  1.075318  , -0.8095081 , ...,  0.04081069,\n",
       "          0.27214215,  0.14404119],\n",
       "        [ 1.29229521,  2.2547067 ,  2.32276895, ...,  0.88879623,\n",
       "          0.5977003 ,  0.69151805],\n",
       "        [-0.08342359, -0.23339688, -0.4362292 , ..., -0.05970851,\n",
       "         -0.10780427, -0.08269408],\n",
       "        [-0.02199893,  0.03932658,  0.17018843, ...,  0.01902898,\n",
       "          0.01298154, -0.01913849],\n",
       "        [-0.20233026, -0.12446777, -0.09608618, ...,  0.39916403,\n",
       "          0.32787735,  0.12517909]])]"
      ]
     },
     "execution_count": 581,
     "metadata": {},
     "output_type": "execute_result"
    }
   ],
   "source": [
    "X_HAR_train"
   ]
  },
  {
   "cell_type": "markdown",
   "metadata": {},
   "source": [
    "The testing raw signals matrices list:"
   ]
  },
  {
   "cell_type": "code",
   "execution_count": 582,
   "metadata": {},
   "outputs": [
    {
     "data": {
      "text/plain": [
       "[array([[ 0.06971024,  0.06352591,  0.07675852, ...,  0.27126796,\n",
       "          0.16124686,  0.19524657],\n",
       "        [ 0.39471738,  0.40493709,  0.43956792, ...,  1.27376087,\n",
       "          1.31028354,  1.25608528],\n",
       "        [-0.11659078, -0.11212781, -0.10438286, ..., -0.06724237,\n",
       "         -0.08350385, -0.06953112],\n",
       "        [ 0.06578621,  0.0653771 ,  0.06778922, ...,  0.09091548,\n",
       "          0.09260207,  0.09608102],\n",
       "        [ 0.06120889,  0.05849763,  0.05579525, ...,  0.06037664,\n",
       "          0.05157136,  0.03467293]])]"
      ]
     },
     "execution_count": 582,
     "metadata": {},
     "output_type": "execute_result"
    }
   ],
   "source": [
    "X_HAR_test"
   ]
  },
  {
   "cell_type": "markdown",
   "metadata": {},
   "source": [
    "The training raw activities vectors list:"
   ]
  },
  {
   "cell_type": "code",
   "execution_count": 583,
   "metadata": {},
   "outputs": [
    {
     "data": {
      "text/plain": [
       "[array([3, 3, 3, ..., 3, 3, 3], dtype=uint8),\n",
       " array([3, 3, 3, ..., 3, 3, 3], dtype=uint8),\n",
       " array([3, 3, 3, ..., 3, 3, 3], dtype=uint8),\n",
       " array([3, 3, 3, ..., 3, 3, 3], dtype=uint8),\n",
       " array([3, 3, 3, ..., 3, 3, 3], dtype=uint8),\n",
       " array([3, 3, 3, ..., 3, 3, 3], dtype=uint8),\n",
       " array([3, 3, 3, ..., 3, 3, 3], dtype=uint8)]"
      ]
     },
     "execution_count": 583,
     "metadata": {},
     "output_type": "execute_result"
    }
   ],
   "source": [
    "Y_HAR_train"
   ]
  },
  {
   "cell_type": "markdown",
   "metadata": {},
   "source": [
    "The testing raw activities vectors list:"
   ]
  },
  {
   "cell_type": "code",
   "execution_count": 584,
   "metadata": {},
   "outputs": [
    {
     "data": {
      "text/plain": [
       "[array([3, 3, 3, ..., 3, 3, 3], dtype=uint8)]"
      ]
     },
     "execution_count": 584,
     "metadata": {},
     "output_type": "execute_result"
    }
   ],
   "source": [
    "Y_HAR_test"
   ]
  },
  {
   "cell_type": "markdown",
   "metadata": {},
   "source": [
    "Getting the training and testing predictor matrices and response vectors, using different statistics for feature extraction."
   ]
  },
  {
   "cell_type": "code",
   "execution_count": 585,
   "metadata": {},
   "outputs": [],
   "source": [
    "X_train, X_test = {}, {}\n",
    "statistics_grid = ['mean', 'mean-std', 'mean-median-std', 'mean-Q25-median-Q75-std']\n",
    "for stat in statistics_grid:\n",
    "    features_extraction = FeaturesExtractionHAR(blocks_size=sampling_freq, statistics=stat)\n",
    "    X_train[stat] = features_extraction.transform(X=X_HAR_train)\n",
    "    X_test[stat] = features_extraction.transform(X=X_HAR_test)"
   ]
  },
  {
   "cell_type": "code",
   "execution_count": 586,
   "metadata": {},
   "outputs": [],
   "source": [
    "Y_train, Y_train_person, _ = get_y_features_HAR(Y_HAR=Y_HAR_train, blocks_size=sampling_freq)\n",
    "groups_idx_train = np.concatenate([np.full(len(Y_train_person[i]), i) for i in Y_train_person.keys()]) \n",
    "n_groups_train = len(np.unique(groups_idx_train))\n",
    "\n",
    "Y_test, _, _ = get_y_features_HAR(Y_HAR=Y_HAR_test, blocks_size=sampling_freq)\n",
    "\n",
    "# Codifying the response as {1:0, 2:1, 3:2, 4:3, 5:4} to avoid problems with certain models like XGBoost\n",
    "label_encoder = LabelEncoder()\n",
    "Y_train = label_encoder.fit_transform(Y_train)\n",
    "Y_test = label_encoder.fit_transform(Y_test)"
   ]
  },
  {
   "cell_type": "markdown",
   "metadata": {},
   "source": [
    "The training predictors matrix when using `mean` as statistic in the features extraction method:"
   ]
  },
  {
   "cell_type": "code",
   "execution_count": 587,
   "metadata": {},
   "outputs": [
    {
     "data": {
      "text/plain": [
       "array([[ 0.03365261,  0.68006947, -0.03290837,  0.10579754,  0.0847926 ],\n",
       "       [ 0.02045495,  0.73399091,  0.01038365,  0.10670424,  0.01609113],\n",
       "       [ 0.0369589 ,  0.51999355, -0.01568391,  0.10837755,  0.05546055],\n",
       "       ...,\n",
       "       [ 0.13476305,  0.76418404, -0.15004717,  0.01154583, -0.09196487],\n",
       "       [ 0.14829756,  0.6773758 , -0.13221036,  0.01025543, -0.06299339],\n",
       "       [ 0.15518139,  0.6740382 , -0.12196696, -0.00395498,  0.06063506]])"
      ]
     },
     "execution_count": 587,
     "metadata": {},
     "output_type": "execute_result"
    }
   ],
   "source": [
    "X_train['mean']"
   ]
  },
  {
   "cell_type": "code",
   "execution_count": 588,
   "metadata": {},
   "outputs": [
    {
     "data": {
      "text/plain": [
       "(7708, 5)"
      ]
     },
     "execution_count": 588,
     "metadata": {},
     "output_type": "execute_result"
    }
   ],
   "source": [
    "X_train['mean'].shape"
   ]
  },
  {
   "cell_type": "markdown",
   "metadata": {},
   "source": [
    "The training predictors matrix when using `mean` and `std` as statistic in the features extraction method:"
   ]
  },
  {
   "cell_type": "code",
   "execution_count": 589,
   "metadata": {},
   "outputs": [
    {
     "data": {
      "text/plain": [
       "array([[ 0.03365261,  0.68006947, -0.03290837, ...,  0.03137443,\n",
       "         0.00674869,  0.07465121],\n",
       "       [ 0.02045495,  0.73399091,  0.01038365, ...,  0.02361024,\n",
       "         0.00949732,  0.05903554],\n",
       "       [ 0.0369589 ,  0.51999355, -0.01568391, ...,  0.01498785,\n",
       "         0.0037611 ,  0.02738979],\n",
       "       ...,\n",
       "       [ 0.13476305,  0.76418404, -0.15004717, ...,  0.01909474,\n",
       "         0.00966084,  0.03784605],\n",
       "       [ 0.14829756,  0.6773758 , -0.13221036, ...,  0.01038249,\n",
       "         0.008176  ,  0.01989335],\n",
       "       [ 0.15518139,  0.6740382 , -0.12196696, ...,  0.02631454,\n",
       "         0.02744556,  0.20666895]])"
      ]
     },
     "execution_count": 589,
     "metadata": {},
     "output_type": "execute_result"
    }
   ],
   "source": [
    "X_train['mean-std']"
   ]
  },
  {
   "cell_type": "code",
   "execution_count": 590,
   "metadata": {},
   "outputs": [
    {
     "data": {
      "text/plain": [
       "(7708, 10)"
      ]
     },
     "execution_count": 590,
     "metadata": {},
     "output_type": "execute_result"
    }
   ],
   "source": [
    "X_train['mean-std'].shape"
   ]
  },
  {
   "cell_type": "code",
   "execution_count": 591,
   "metadata": {},
   "outputs": [
    {
     "data": {
      "text/plain": [
       "[array([[ 0.06971024,  0.06352591,  0.07675852, ...,  0.27126796,\n",
       "          0.16124686,  0.19524657],\n",
       "        [ 0.39471738,  0.40493709,  0.43956792, ...,  1.27376087,\n",
       "          1.31028354,  1.25608528],\n",
       "        [-0.11659078, -0.11212781, -0.10438286, ..., -0.06724237,\n",
       "         -0.08350385, -0.06953112],\n",
       "        [ 0.06578621,  0.0653771 ,  0.06778922, ...,  0.09091548,\n",
       "          0.09260207,  0.09608102],\n",
       "        [ 0.06120889,  0.05849763,  0.05579525, ...,  0.06037664,\n",
       "          0.05157136,  0.03467293]])]"
      ]
     },
     "execution_count": 591,
     "metadata": {},
     "output_type": "execute_result"
    }
   ],
   "source": [
    "X_HAR_test"
   ]
  },
  {
   "cell_type": "markdown",
   "metadata": {},
   "source": [
    "The training response vector:"
   ]
  },
  {
   "cell_type": "code",
   "execution_count": 592,
   "metadata": {},
   "outputs": [
    {
     "data": {
      "text/plain": [
       "array([2, 2, 2, ..., 2, 2, 2], dtype=int64)"
      ]
     },
     "execution_count": 592,
     "metadata": {},
     "output_type": "execute_result"
    }
   ],
   "source": [
    "Y_train"
   ]
  },
  {
   "cell_type": "code",
   "execution_count": 593,
   "metadata": {},
   "outputs": [
    {
     "data": {
      "text/plain": [
       "(7708,)"
      ]
     },
     "execution_count": 593,
     "metadata": {},
     "output_type": "execute_result"
    }
   ],
   "source": [
    "Y_train.shape"
   ]
  },
  {
   "cell_type": "markdown",
   "metadata": {},
   "source": [
    "The testing response vector:"
   ]
  },
  {
   "cell_type": "code",
   "execution_count": 594,
   "metadata": {},
   "outputs": [
    {
     "data": {
      "text/plain": [
       "array([2, 2, 2, ..., 2, 2, 2], dtype=int64)"
      ]
     },
     "execution_count": 594,
     "metadata": {},
     "output_type": "execute_result"
    }
   ],
   "source": [
    "Y_test"
   ]
  },
  {
   "cell_type": "code",
   "execution_count": 595,
   "metadata": {},
   "outputs": [
    {
     "data": {
      "text/plain": [
       "(1128,)"
      ]
     },
     "execution_count": 595,
     "metadata": {},
     "output_type": "execute_result"
    }
   ],
   "source": [
    "Y_test.shape"
   ]
  },
  {
   "cell_type": "markdown",
   "metadata": {},
   "source": [
    "`groups_idx_train` is a vector indicating the to which group (individual) belongs each training observation. It is necessary to apply Group KFold. \n",
    "\n",
    "The idea is to associate observations with groups, so, the specific labels doesn't matter."
   ]
  },
  {
   "cell_type": "code",
   "execution_count": 596,
   "metadata": {},
   "outputs": [
    {
     "data": {
      "text/plain": [
       "array([0, 0, 0, ..., 6, 6, 6])"
      ]
     },
     "execution_count": 596,
     "metadata": {},
     "output_type": "execute_result"
    }
   ],
   "source": [
    "groups_idx_train"
   ]
  },
  {
   "cell_type": "code",
   "execution_count": 597,
   "metadata": {},
   "outputs": [
    {
     "data": {
      "text/plain": [
       "(7708,)"
      ]
     },
     "execution_count": 597,
     "metadata": {},
     "output_type": "execute_result"
    }
   ],
   "source": [
    "groups_idx_train.shape"
   ]
  },
  {
   "cell_type": "markdown",
   "metadata": {},
   "source": [
    "## **Pipelines definition**"
   ]
  },
  {
   "cell_type": "code",
   "execution_count": 598,
   "metadata": {},
   "outputs": [],
   "source": [
    "pipelines = {} \n",
    "\n",
    "models = {'knn': KNeighborsClassifier(n_jobs=-1), \n",
    "          'trees': DecisionTreeClassifier(random_state=123), \n",
    "          'extra_trees': ExtraTreesClassifier(random_state=123),\n",
    "          'RF': RandomForestClassifier(random_state=123), \n",
    "          'HGB': HistGradientBoostingClassifier(random_state=123), \n",
    "          'MLP': MLPClassifier(random_state=123),\n",
    "          'LinearSVM': LinearSVC(random_state=123),  \n",
    "          'XGB': XGBClassifier(random_state=123),\n",
    "          'Logistic': LogisticRegression(max_iter=250, solver='saga', random_state=123),\n",
    "          'LGBM': LGBMClassifier(random_state=123, verbose=-1),\n",
    "          'SVM': SVC(random_state=123)\n",
    "}\n",
    "\n",
    "for model_name, model in models.items():\n",
    "\n",
    "    pipelines[model_name] = Pipeline([\n",
    "                ('scaler', scaler(apply=False, method='standard')),\n",
    "                (model_name, model) \n",
    "            ])"
   ]
  },
  {
   "cell_type": "code",
   "execution_count": 599,
   "metadata": {},
   "outputs": [
    {
     "data": {
      "text/html": [
       "<style>#sk-container-id-6 {color: black;}#sk-container-id-6 pre{padding: 0;}#sk-container-id-6 div.sk-toggleable {background-color: white;}#sk-container-id-6 label.sk-toggleable__label {cursor: pointer;display: block;width: 100%;margin-bottom: 0;padding: 0.3em;box-sizing: border-box;text-align: center;}#sk-container-id-6 label.sk-toggleable__label-arrow:before {content: \"▸\";float: left;margin-right: 0.25em;color: #696969;}#sk-container-id-6 label.sk-toggleable__label-arrow:hover:before {color: black;}#sk-container-id-6 div.sk-estimator:hover label.sk-toggleable__label-arrow:before {color: black;}#sk-container-id-6 div.sk-toggleable__content {max-height: 0;max-width: 0;overflow: hidden;text-align: left;background-color: #f0f8ff;}#sk-container-id-6 div.sk-toggleable__content pre {margin: 0.2em;color: black;border-radius: 0.25em;background-color: #f0f8ff;}#sk-container-id-6 input.sk-toggleable__control:checked~div.sk-toggleable__content {max-height: 200px;max-width: 100%;overflow: auto;}#sk-container-id-6 input.sk-toggleable__control:checked~label.sk-toggleable__label-arrow:before {content: \"▾\";}#sk-container-id-6 div.sk-estimator input.sk-toggleable__control:checked~label.sk-toggleable__label {background-color: #d4ebff;}#sk-container-id-6 div.sk-label input.sk-toggleable__control:checked~label.sk-toggleable__label {background-color: #d4ebff;}#sk-container-id-6 input.sk-hidden--visually {border: 0;clip: rect(1px 1px 1px 1px);clip: rect(1px, 1px, 1px, 1px);height: 1px;margin: -1px;overflow: hidden;padding: 0;position: absolute;width: 1px;}#sk-container-id-6 div.sk-estimator {font-family: monospace;background-color: #f0f8ff;border: 1px dotted black;border-radius: 0.25em;box-sizing: border-box;margin-bottom: 0.5em;}#sk-container-id-6 div.sk-estimator:hover {background-color: #d4ebff;}#sk-container-id-6 div.sk-parallel-item::after {content: \"\";width: 100%;border-bottom: 1px solid gray;flex-grow: 1;}#sk-container-id-6 div.sk-label:hover label.sk-toggleable__label {background-color: #d4ebff;}#sk-container-id-6 div.sk-serial::before {content: \"\";position: absolute;border-left: 1px solid gray;box-sizing: border-box;top: 0;bottom: 0;left: 50%;z-index: 0;}#sk-container-id-6 div.sk-serial {display: flex;flex-direction: column;align-items: center;background-color: white;padding-right: 0.2em;padding-left: 0.2em;position: relative;}#sk-container-id-6 div.sk-item {position: relative;z-index: 1;}#sk-container-id-6 div.sk-parallel {display: flex;align-items: stretch;justify-content: center;background-color: white;position: relative;}#sk-container-id-6 div.sk-item::before, #sk-container-id-6 div.sk-parallel-item::before {content: \"\";position: absolute;border-left: 1px solid gray;box-sizing: border-box;top: 0;bottom: 0;left: 50%;z-index: -1;}#sk-container-id-6 div.sk-parallel-item {display: flex;flex-direction: column;z-index: 1;position: relative;background-color: white;}#sk-container-id-6 div.sk-parallel-item:first-child::after {align-self: flex-end;width: 50%;}#sk-container-id-6 div.sk-parallel-item:last-child::after {align-self: flex-start;width: 50%;}#sk-container-id-6 div.sk-parallel-item:only-child::after {width: 0;}#sk-container-id-6 div.sk-dashed-wrapped {border: 1px dashed gray;margin: 0 0.4em 0.5em 0.4em;box-sizing: border-box;padding-bottom: 0.4em;background-color: white;}#sk-container-id-6 div.sk-label label {font-family: monospace;font-weight: bold;display: inline-block;line-height: 1.2em;}#sk-container-id-6 div.sk-label-container {text-align: center;}#sk-container-id-6 div.sk-container {/* jupyter's `normalize.less` sets `[hidden] { display: none; }` but bootstrap.min.css set `[hidden] { display: none !important; }` so we also need the `!important` here to be able to override the default hidden behavior on the sphinx rendered scikit-learn.org. See: https://github.com/scikit-learn/scikit-learn/issues/21755 */display: inline-block !important;position: relative;}#sk-container-id-6 div.sk-text-repr-fallback {display: none;}</style><div id=\"sk-container-id-6\" class=\"sk-top-container\"><div class=\"sk-text-repr-fallback\"><pre>Pipeline(steps=[(&#x27;scaler&#x27;, scaler()),\n",
       "                (&#x27;RF&#x27;, RandomForestClassifier(random_state=123))])</pre><b>In a Jupyter environment, please rerun this cell to show the HTML representation or trust the notebook. <br />On GitHub, the HTML representation is unable to render, please try loading this page with nbviewer.org.</b></div><div class=\"sk-container\" hidden><div class=\"sk-item sk-dashed-wrapped\"><div class=\"sk-label-container\"><div class=\"sk-label sk-toggleable\"><input class=\"sk-toggleable__control sk-hidden--visually\" id=\"sk-estimator-id-15\" type=\"checkbox\" ><label for=\"sk-estimator-id-15\" class=\"sk-toggleable__label sk-toggleable__label-arrow\">Pipeline</label><div class=\"sk-toggleable__content\"><pre>Pipeline(steps=[(&#x27;scaler&#x27;, scaler()),\n",
       "                (&#x27;RF&#x27;, RandomForestClassifier(random_state=123))])</pre></div></div></div><div class=\"sk-serial\"><div class=\"sk-item\"><div class=\"sk-estimator sk-toggleable\"><input class=\"sk-toggleable__control sk-hidden--visually\" id=\"sk-estimator-id-16\" type=\"checkbox\" ><label for=\"sk-estimator-id-16\" class=\"sk-toggleable__label sk-toggleable__label-arrow\">scaler</label><div class=\"sk-toggleable__content\"><pre>scaler()</pre></div></div></div><div class=\"sk-item\"><div class=\"sk-estimator sk-toggleable\"><input class=\"sk-toggleable__control sk-hidden--visually\" id=\"sk-estimator-id-17\" type=\"checkbox\" ><label for=\"sk-estimator-id-17\" class=\"sk-toggleable__label sk-toggleable__label-arrow\">RandomForestClassifier</label><div class=\"sk-toggleable__content\"><pre>RandomForestClassifier(random_state=123)</pre></div></div></div></div></div></div></div>"
      ],
      "text/plain": [
       "Pipeline(steps=[('scaler', scaler()),\n",
       "                ('RF', RandomForestClassifier(random_state=123))])"
      ]
     },
     "execution_count": 599,
     "metadata": {},
     "output_type": "execute_result"
    }
   ],
   "source": [
    "pipelines['RF'].fit(X=X_train['mean'], y=Y_train)"
   ]
  },
  {
   "cell_type": "code",
   "execution_count": 600,
   "metadata": {},
   "outputs": [
    {
     "data": {
      "text/plain": [
       "array([2, 2, 2, ..., 2, 2, 2], dtype=int64)"
      ]
     },
     "execution_count": 600,
     "metadata": {},
     "output_type": "execute_result"
    }
   ],
   "source": [
    "pipelines['RF'].predict(X=X_test['mean'])"
   ]
  },
  {
   "cell_type": "markdown",
   "metadata": {},
   "source": [
    "## **Defining inner evaluation method**"
   ]
  },
  {
   "cell_type": "markdown",
   "metadata": {},
   "source": [
    "### **Group KFold Cross Validation**"
   ]
  },
  {
   "cell_type": "code",
   "execution_count": 601,
   "metadata": {},
   "outputs": [],
   "source": [
    "inner = GroupKFold(n_splits=n_groups_train - 1) \n",
    "# n_splits=n_groups_train - 1 implies that the number of groups (individuals) in the validating fold will be 1 or 2."
   ]
  },
  {
   "cell_type": "markdown",
   "metadata": {},
   "source": [
    "#### **Understanding how Group KFold it works**"
   ]
  },
  {
   "cell_type": "markdown",
   "metadata": {},
   "source": [
    "- `GroupKFold`: the *number of groups* in the *testing fold* in each iteration is in `[1, (n_groups - n_splits + 1)]` if `n_splits < n_groups` and `n_groups` if `n_splits == n_groups.`"
   ]
  },
  {
   "cell_type": "code",
   "execution_count": 602,
   "metadata": {},
   "outputs": [
    {
     "name": "stdout",
     "output_type": "stream",
     "text": [
      "Iter 0 \n",
      "  Idx train fold: [ 3  4  5  6  7  8  9 14] \n",
      "  Idx test fold: [ 0  1  2 10 11 12 13 15]\n",
      "Iter 1 \n",
      "  Idx train fold: [ 0  1  2  3  4  5 10 11 12 13 14 15] \n",
      "  Idx test fold: [6 7 8 9]\n",
      "Iter 2 \n",
      "  Idx train fold: [ 0  1  2  6  7  8  9 10 11 12 13 15] \n",
      "  Idx test fold: [ 3  4  5 14]\n"
     ]
    }
   ],
   "source": [
    "X = [0.1, 0.2, 2.2, 2.4, 2.3, 4.55, 5.8, 8.8, 9, 10, 8, 10, 10, 5, 6, 7]\n",
    "y = [\"a\", \"b\", \"b\", \"b\", \"c\", \"c\", \"c\", \"d\", \"d\", \"d\", 'a', \"d\", \"d\", \"d\", 'a', 'c']\n",
    "groups = [1, 1, 1, 2, 2, 2, 3, 3, 3, 3, 1, 4, 4, 4, 2, 4]\n",
    "\n",
    "gkf = GroupKFold(n_splits=3) \n",
    "for i, (train, test) in enumerate(gkf.split(X, y, groups=groups)):\n",
    "    print(f\"Iter {i}\", f'\\n  Idx train fold: {train}', f'\\n  Idx test fold: {test}')\n"
   ]
  },
  {
   "cell_type": "markdown",
   "metadata": {},
   "source": [
    "`GroupKFold` **justification**:"
   ]
  },
  {
   "cell_type": "code",
   "execution_count": 603,
   "metadata": {},
   "outputs": [
    {
     "data": {
      "text/plain": [
       "array([0.91539164, 0.7563062 , 0.71726369, 0.8839834 , 0.91722165,\n",
       "       0.65759934])"
      ]
     },
     "execution_count": 603,
     "metadata": {},
     "output_type": "execute_result"
    }
   ],
   "source": [
    "cross_val_score(X=X_train['mean'], y=Y_train, estimator=pipelines['RF'], scoring='balanced_accuracy', \n",
    "                cv=inner, groups=groups_idx_train)"
   ]
  },
  {
   "cell_type": "markdown",
   "metadata": {},
   "source": [
    "## **Applying the inner evaluation**"
   ]
  },
  {
   "cell_type": "markdown",
   "metadata": {},
   "source": [
    "### **Grids for HPO**"
   ]
  },
  {
   "cell_type": "markdown",
   "metadata": {},
   "source": [
    "Defining the preprocessing grid. "
   ]
  },
  {
   "cell_type": "code",
   "execution_count": 604,
   "metadata": {},
   "outputs": [],
   "source": [
    "def preprocessing_param_grid(trial):\n",
    "\n",
    "    # Fixed Grid\n",
    "    param_grid = {\n",
    "        'scaler__apply': trial.suggest_categorical('scaler__apply', [True, False])\n",
    "    }\n",
    "\n",
    "    # Conditioned Grid\n",
    "    ################################################################################################################ \n",
    "    if param_grid['scaler__apply'] == True:\n",
    "\n",
    "        param_grid.update({'scaler__method': trial.suggest_categorical('scaler__method', ['standard', 'min-max'])})\n",
    "\n",
    "    ################################################################################################################\n",
    "\n",
    "    return param_grid"
   ]
  },
  {
   "cell_type": "markdown",
   "metadata": {},
   "source": [
    "Defining grids for Machine Learning models."
   ]
  },
  {
   "cell_type": "code",
   "execution_count": 605,
   "metadata": {},
   "outputs": [],
   "source": [
    "def param_grid_knn(trial):\n",
    "\n",
    "    param_grid = preprocessing_param_grid(trial)\n",
    "\n",
    "    param_grid.update({\n",
    "        'knn__n_neighbors': trial.suggest_int('knn__n_neighbors', 1, 25),\n",
    "        'knn__metric': trial.suggest_categorical('knn__metric', ['cosine', 'minkowski', 'cityblock'])\n",
    "    })\n",
    "\n",
    "    if param_grid['knn__metric'] == 'minkowski':\n",
    "        param_grid['knn__p'] = trial.suggest_int('knn__p', 1, 4)\n",
    "\n",
    "    return param_grid"
   ]
  },
  {
   "cell_type": "code",
   "execution_count": 606,
   "metadata": {},
   "outputs": [],
   "source": [
    "def param_grid_trees(trial):\n",
    "\n",
    "    param_grid = preprocessing_param_grid(trial)\n",
    "\n",
    "    param_grid.update({\n",
    "        'trees__max_depth': trial.suggest_categorical('trees__max_depth', [None, 2, 5, 7, 10, 20, 30]),\n",
    "        'trees__min_samples_split': trial.suggest_int('trees__min_samples_split', 2, 25),\n",
    "        'trees__min_samples_leaf': trial.suggest_int('trees__min_samples_leaf', 2, 25),\n",
    "        'trees__splitter': trial.suggest_categorical('trees__splitter', ['best', 'random']),\n",
    "        'trees__criterion': trial.suggest_categorical('trees__criterion', ['log_loss', 'gini', 'entropy']),\n",
    "        'trees__class_weight': trial.suggest_categorical('trees__class_weight', ['balanced', None])\n",
    "    })\n",
    "\n",
    "    return param_grid"
   ]
  },
  {
   "cell_type": "code",
   "execution_count": 607,
   "metadata": {},
   "outputs": [],
   "source": [
    "def param_grid_extra_trees(trial):\n",
    "\n",
    "    param_grid = preprocessing_param_grid(trial)\n",
    "\n",
    "    param_grid.update({\n",
    "        'extra_trees__n_estimators': trial.suggest_categorical('extra_trees__n_estimators', [30, 50, 75, 100, 120]),\n",
    "        'extra_trees__max_depth': trial.suggest_categorical('extra_trees__max_depth', [3, 5, 7, 10, 20, 30]),\n",
    "        'extra_trees__min_samples_split': trial.suggest_int('extra_trees__min_samples_split', 2, 20),\n",
    "        'extra_trees__min_samples_leaf': trial.suggest_int('extra_trees__min_samples_leaf', 2, 20),\n",
    "        'extra_trees__criterion': trial.suggest_categorical('extra_trees__criterion', ['gini']),\n",
    "        'extra_trees__max_features': trial.suggest_categorical('extra_trees__max_features', [0.7, 0.8, 0.9, 1.0]),\n",
    "        'extra_trees__class_weight': trial.suggest_categorical('extra_trees__class_weight', ['balanced', None])\n",
    "    })\n",
    "    \n",
    "    return param_grid"
   ]
  },
  {
   "cell_type": "code",
   "execution_count": 608,
   "metadata": {},
   "outputs": [],
   "source": [
    "def param_grid_HGB(trial):\n",
    "\n",
    "    param_grid = preprocessing_param_grid(trial)\n",
    "\n",
    "    param_grid.update({\n",
    "        'HGB__max_depth': trial.suggest_categorical('HGB__max_depth', [5, 10, 20, 30, 40, 50]),\n",
    "        'HGB__l2_regularization': trial.suggest_float('HGB__l2_regularization', 0.01, 0.7, log=True),\n",
    "        'HGB__max_iter': trial.suggest_categorical('HGB__max_iter', [50, 70, 100, 130, 150])\n",
    "    })\n",
    "\n",
    "    return param_grid"
   ]
  },
  {
   "cell_type": "code",
   "execution_count": 609,
   "metadata": {},
   "outputs": [],
   "source": [
    "def param_grid_XGB(trial):\n",
    "\n",
    "    param_grid = preprocessing_param_grid(trial)\n",
    "\n",
    "    param_grid.update({\n",
    "        'XGB__max_depth': trial.suggest_categorical('XGB__max_depth', [10, 20, 30, 40, 50, 70, 100]),\n",
    "        'XGB__reg_lambda': trial.suggest_float('XGB__reg_lambda', 0, 1, step=0.05, log=False),\n",
    "        'XGB__n_estimators': trial.suggest_categorical('XGB__n_estimators', [50, 70, 100, 130, 150]),\n",
    "        'XGB__eta': trial.suggest_float('XGB__eta', 0, 0.3, step=0.02, log=False),\n",
    "        'XGB__alpha': trial.suggest_float('XGB__alpha', 0.2, 1, step=0.01, log=False)\n",
    "    })\n",
    "\n",
    "    return param_grid"
   ]
  },
  {
   "cell_type": "code",
   "execution_count": 610,
   "metadata": {},
   "outputs": [],
   "source": [
    "def param_grid_RF(trial):\n",
    "\n",
    "    param_grid = preprocessing_param_grid(trial)\n",
    "\n",
    "    param_grid.update({\n",
    "        'RF__n_estimators': trial.suggest_categorical('RF__n_estimators', [30, 50, 75, 100, 120, 150, 200, 250]),\n",
    "        'RF__max_depth': trial.suggest_categorical('RF__max_depth', [3, 4, 5, 7, 10, 20, 30]),\n",
    "        'RF__min_samples_split': trial.suggest_int('RF__min_samples_split', 2, 20),\n",
    "        'RF__min_samples_leaf': trial.suggest_int('RF__min_samples_leaf', 2, 20),\n",
    "        'RF__criterion': trial.suggest_categorical('RF__criterion', ['gini', 'entropy']),\n",
    "        'RF__class_weight': trial.suggest_categorical('RF__class_weight', ['balanced', None])\n",
    "    })\n",
    "    \n",
    "    return param_grid"
   ]
  },
  {
   "cell_type": "code",
   "execution_count": 611,
   "metadata": {},
   "outputs": [],
   "source": [
    "def param_grid_LinearSVM(trial):\n",
    "\n",
    "    param_grid = preprocessing_param_grid(trial)\n",
    "\n",
    "    param_grid.update({\n",
    "        'LinearSVM__C': trial.suggest_float('SVM__C', 0.001, 2, log=True),\n",
    "        'LinearSVM__class_weight': trial.suggest_categorical('LinearSVM__class_weight', ['balanced', None])\n",
    "    })\n",
    "\n",
    "    return param_grid"
   ]
  },
  {
   "cell_type": "code",
   "execution_count": 612,
   "metadata": {},
   "outputs": [],
   "source": [
    "def param_grid_MLP(trial):\n",
    "\n",
    "    param_grid = preprocessing_param_grid(trial)\n",
    "\n",
    "    param_grid.update({\n",
    "        'MLP__learning_rate_init': trial.suggest_float('MLP__learning_rate_init', 0.0001, 0.2, log=True),\n",
    "        'MLP__alpha': trial.suggest_float('MLP__alpha', 0.01, 1, log=True)\n",
    "    })\n",
    "\n",
    "    return param_grid"
   ]
  },
  {
   "cell_type": "code",
   "execution_count": 613,
   "metadata": {},
   "outputs": [],
   "source": [
    "def param_grid_Logistic(trial):\n",
    "\n",
    "    param_grid = preprocessing_param_grid(trial)\n",
    "\n",
    "    param_grid.update({\n",
    "        'Logistic__penalty':  trial.suggest_categorical('Logistic__penalty', ['l1', 'l2', 'elasticnet', None]),\n",
    "        'Logistic__C': trial.suggest_float('Logistic__C', 0.001, 2, log=True),\n",
    "        'Logistic__class_weight': trial.suggest_categorical('Logistic__class_weight', ['balanced', None])\n",
    "    })\n",
    "\n",
    "    if param_grid['Logistic__penalty'] == 'elasticnet':\n",
    "        param_grid.update({'Logistic__l1_ratio': trial.suggest_float('Logistic__l1_ratio', 0.1, 1, log=True)})\n",
    "\n",
    "    return param_grid"
   ]
  },
  {
   "cell_type": "code",
   "execution_count": 614,
   "metadata": {},
   "outputs": [],
   "source": [
    "def param_grid_SVM(trial):\n",
    "\n",
    "    param_grid = preprocessing_param_grid(trial)\n",
    "\n",
    "    param_grid.update({\n",
    "        'SVM__C': trial.suggest_float('SVM__C', 0.1, 5, log=True),\n",
    "        'SVM__kernel': trial.suggest_categorical('SVM__kernel', ['poly', 'rbf', 'sigmoid']),\n",
    "        'SVM__class_weight': trial.suggest_categorical('SVM__class_weight', ['balanced', None])\n",
    "    })\n",
    "\n",
    "    if param_grid['SVM__kernel'] == 'poly':\n",
    "\n",
    "        param_grid.update({\n",
    "            'SVM__degree': trial.suggest_int('SVM__degree', 1, 5)\n",
    "        })\n",
    "\n",
    "    return param_grid"
   ]
  },
  {
   "cell_type": "code",
   "execution_count": 615,
   "metadata": {},
   "outputs": [],
   "source": [
    "def param_grid_LGBM(trial):\n",
    "\n",
    "    param_grid = preprocessing_param_grid(trial)\n",
    "\n",
    "    param_grid.update({\n",
    "        'LGBM__max_depth': trial.suggest_int('LGBM__max_depth', 2, 200),\n",
    "        'LGBM__num_leaves': trial.suggest_int('LGBM__num_leaves', 2, 200),\n",
    "        'LGBM__n_estimators': trial.suggest_categorical('LGBM__n_estimators', [30, 50, 70, 100, 120, 150, 180, 200, 250, 300]),\n",
    "        'LGBM__learning_rate': trial.suggest_float('LGBM__learning_rate', 0.0001, 0.1, log=True),\n",
    "        'LGBM__lambda_l1': trial.suggest_float('LGBM__lambda_l1', 0.001, 1, log=True),\n",
    "        'LGBM__lambda_l2': trial.suggest_float('LGBM__lambda_l2', 0.001, 1, log=True),\n",
    "        'LGBM__min_split_gain': trial.suggest_float('LGBM__min_split_gain', 0.001, 0.01, log=True),\n",
    "        'LGBM__min_child_weight': trial.suggest_int('LGBM__min_child_weight', 5, 60),\n",
    "        'LGBM__feature_fraction': trial.suggest_float('LGBM__feature_fraction', 0.1, 0.9, step=0.05)\n",
    "    })\n",
    "\n",
    "    return param_grid"
   ]
  },
  {
   "cell_type": "markdown",
   "metadata": {},
   "source": [
    "### **HPO**"
   ]
  },
  {
   "cell_type": "code",
   "execution_count": 711,
   "metadata": {},
   "outputs": [],
   "source": [
    "inner_score, best_params, inner_results = {model_name: {} for model_name in models.keys()}, {model_name: {} for model_name in models.keys()}, {model_name: {} for model_name in models.keys()}"
   ]
  },
  {
   "cell_type": "code",
   "execution_count": null,
   "metadata": {},
   "outputs": [],
   "source": [
    "for model_name in models.keys():\n",
    "\n",
    "    print(f'=====================================\\n Model: {model_name} \\n=====================================')\n",
    "\n",
    "    param_grid = globals()[f'param_grid_{model_name}']\n",
    "\n",
    "    simple_eval = SimpleEvaluation(estimator=pipelines[model_name],  \n",
    "                                cv=inner, \n",
    "                                groups=groups_idx_train,\n",
    "                                param_grid=param_grid,\n",
    "                                search_method='optuna',\n",
    "                                scoring='balanced_accuracy', \n",
    "                                direction='maximize', \n",
    "                                n_trials=25, \n",
    "                                random_state=123)\n",
    "\n",
    "    for stat in statistics_grid:\n",
    "        print(f'---------------------------------------------------\\n Statistics for feature extraction method: {stat} \\n---------------------------------------------------')\n",
    "\n",
    "        simple_eval.fit(X=X_train[stat], y=Y_train)\n",
    "\n",
    "        inner_score[model_name][stat] = simple_eval.inner_score\n",
    "        best_params[model_name][stat] = simple_eval.inner_best_params\n",
    "        inner_results[model_name][stat] = simple_eval.inner_results"
   ]
  },
  {
   "cell_type": "markdown",
   "metadata": {},
   "source": [
    "- **Processing the inner results:**"
   ]
  },
  {
   "cell_type": "code",
   "execution_count": null,
   "metadata": {},
   "outputs": [],
   "source": [
    "for model_name in models.keys():\n",
    "\n",
    "    best_stats = list(inner_score[model_name].keys())[np.argmax(np.array(list(inner_score[model_name].values())))]\n",
    "    best_params[model_name][best_stats].update({'features_extraction__statistics': best_stats})\n",
    "    inner_score[model_name] = inner_score[model_name][best_stats]\n",
    "    best_params[model_name] = best_params[model_name][best_stats]"
   ]
  },
  {
   "cell_type": "markdown",
   "metadata": {},
   "source": [
    "- **Saving the inner results:**"
   ]
  },
  {
   "cell_type": "code",
   "execution_count": null,
   "metadata": {},
   "outputs": [],
   "source": [
    "'''\n",
    "with open(r'C:\\Users\\fscielzo\\Documents\\DataScience-GitHub\\Human-Activity-Recognition\\results\\inner_score.pkl', 'wb') as file:\n",
    "    pickle.dump(inner_score, file)\n",
    "with open(r'C:\\Users\\fscielzo\\Documents\\DataScience-GitHub\\Human-Activity-Recognition\\results\\best_params.pkl', 'wb') as file:\n",
    "    pickle.dump(best_params, file)\n",
    "with open(r'C:\\Users\\fscielzo\\Documents\\DataScience-GitHub\\Human-Activity-Recognition\\results\\inner_results.pkl', 'wb') as file:\n",
    "    pickle.dump(inner_results, file)\n",
    "'''    "
   ]
  },
  {
   "cell_type": "markdown",
   "metadata": {},
   "source": [
    "### **Selecting the best pipeline**"
   ]
  },
  {
   "cell_type": "markdown",
   "metadata": {},
   "source": [
    "- **Opening the inner results**"
   ]
  },
  {
   "cell_type": "code",
   "execution_count": 616,
   "metadata": {},
   "outputs": [],
   "source": [
    "with open(r'C:\\Users\\fscielzo\\Documents\\DataScience-GitHub\\Human-Activity-Recognition\\results\\inner_score.pkl', 'rb') as file:\n",
    "    inner_score = pickle.load(file)\n",
    "with open(r'C:\\Users\\fscielzo\\Documents\\DataScience-GitHub\\Human-Activity-Recognition\\results\\best_params.pkl', 'rb') as file:\n",
    "    best_params = pickle.load(file)\n",
    "with open(r'C:\\Users\\fscielzo\\Documents\\DataScience-GitHub\\Human-Activity-Recognition\\results\\inner_results.pkl', 'rb') as file:\n",
    "    inner_results = pickle.load(file)"
   ]
  },
  {
   "cell_type": "markdown",
   "metadata": {},
   "source": [
    "- Processing the results"
   ]
  },
  {
   "cell_type": "code",
   "execution_count": 617,
   "metadata": {},
   "outputs": [],
   "source": [
    "inner_score_values = np.array(list(inner_score.values()))\n",
    "pipeline_names = list(inner_score.keys())\n",
    "best_pipeline_name = pipeline_names[np.argmax(inner_score_values)]\n",
    "score_best_pipeline = np.max(inner_score_values)\n",
    "\n",
    "combined_models_score = list(zip(pipeline_names, inner_score_values))\n",
    "sorted_combined_models_score= sorted(combined_models_score, key=lambda x: x[1], reverse=True)  # Sort from greater to lower\n",
    "sorted_models, sorted_scores = zip(*sorted_combined_models_score)"
   ]
  },
  {
   "cell_type": "code",
   "execution_count": 618,
   "metadata": {},
   "outputs": [
    {
     "data": {
      "image/png": "[encoded data removed]",
      "text/plain": [
       "<Figure size 500x400 with 1 Axes>"
      ]
     },
     "metadata": {},
     "output_type": "display_data"
    },
    {
     "name": "stdout",
     "output_type": "stream",
     "text": [
      "The best pipeline among all the 11 alternatives compared in this final stage, according to the inner evaluation, is: LGBM\n",
      "Accuracy of the best pipeline:  0.949\n",
      "\n",
      "The best pipeline hyper-parameters are:  {'scaler__apply': False, 'LGBM__max_depth': 23, 'LGBM__num_leaves': 71, 'LGBM__n_estimators': 120, 'LGBM__learning_rate': 0.005320673587684961, 'LGBM__lambda_l1': 0.008840401399518267, 'LGBM__lambda_l2': 0.002389872230017185, 'LGBM__min_split_gain': 0.0015901799134300236, 'LGBM__min_child_weight': 22, 'LGBM__feature_fraction': 0.75, 'features_extraction__statistics': 'mean-median-std'}\n"
     ]
    }
   ],
   "source": [
    "fig, axes = plt.subplots(figsize=(5,4))\n",
    "ax = sns.barplot(y=list(sorted_models), x=list(sorted_scores), color='blue', width=0.4, alpha=0.9)\n",
    "ax = sns.barplot(y=[best_pipeline_name], x=[score_best_pipeline], color='red', width=0.4, alpha=0.9)\n",
    "ax.set_ylabel('Pipelines', size=12)\n",
    "ax.set_xlabel('Accuracy', size=12)\n",
    "ax.set_xticks(np.round(np.linspace(0, np.max(inner_score_values), 6),3)) \n",
    "ax.tick_params(axis='y', labelsize=11) \n",
    "ax.tick_params(axis='x', labelsize=10.5)    \n",
    "plt.title('Pipelines Selection - Group KFold CV', size=13, weight='bold')\n",
    "for label in ax.get_yticklabels():\n",
    "    #label.set_weight('bold')\n",
    "    label.set_color('black') \n",
    "plt.show()\n",
    "\n",
    "print(f'The best pipeline among all the {len(sorted_scores)} alternatives compared in this final stage, according to the inner evaluation, is: {best_pipeline}')\n",
    "print('Accuracy of the best pipeline: ', np.round(score_best_pipeline, 3))\n",
    "print('\\nThe best pipeline hyper-parameters are: ', best_params[best_pipeline_name])"
   ]
  },
  {
   "cell_type": "markdown",
   "metadata": {},
   "source": [
    "#### **Defining the best pipeline**"
   ]
  },
  {
   "cell_type": "markdown",
   "metadata": {},
   "source": [
    "Defining a general pipeline:"
   ]
  },
  {
   "cell_type": "code",
   "execution_count": 619,
   "metadata": {},
   "outputs": [],
   "source": [
    "final_pipeline = Pipeline([\n",
    "                    ('features_extraction', FeaturesExtractionHAR(blocks_size=sampling_freq, statistics='mean')),\n",
    "                    ('scaler', scaler(apply=False, method='standard')),\n",
    "                    (best_pipeline_name, models[best_pipeline_name]) \n",
    "                ])"
   ]
  },
  {
   "cell_type": "markdown",
   "metadata": {},
   "source": [
    "Setting the best parameter to the defined pipeline:"
   ]
  },
  {
   "cell_type": "code",
   "execution_count": 620,
   "metadata": {},
   "outputs": [
    {
     "data": {
      "text/html": [
       "<style>#sk-container-id-7 {color: black;}#sk-container-id-7 pre{padding: 0;}#sk-container-id-7 div.sk-toggleable {background-color: white;}#sk-container-id-7 label.sk-toggleable__label {cursor: pointer;display: block;width: 100%;margin-bottom: 0;padding: 0.3em;box-sizing: border-box;text-align: center;}#sk-container-id-7 label.sk-toggleable__label-arrow:before {content: \"▸\";float: left;margin-right: 0.25em;color: #696969;}#sk-container-id-7 label.sk-toggleable__label-arrow:hover:before {color: black;}#sk-container-id-7 div.sk-estimator:hover label.sk-toggleable__label-arrow:before {color: black;}#sk-container-id-7 div.sk-toggleable__content {max-height: 0;max-width: 0;overflow: hidden;text-align: left;background-color: #f0f8ff;}#sk-container-id-7 div.sk-toggleable__content pre {margin: 0.2em;color: black;border-radius: 0.25em;background-color: #f0f8ff;}#sk-container-id-7 input.sk-toggleable__control:checked~div.sk-toggleable__content {max-height: 200px;max-width: 100%;overflow: auto;}#sk-container-id-7 input.sk-toggleable__control:checked~label.sk-toggleable__label-arrow:before {content: \"▾\";}#sk-container-id-7 div.sk-estimator input.sk-toggleable__control:checked~label.sk-toggleable__label {background-color: #d4ebff;}#sk-container-id-7 div.sk-label input.sk-toggleable__control:checked~label.sk-toggleable__label {background-color: #d4ebff;}#sk-container-id-7 input.sk-hidden--visually {border: 0;clip: rect(1px 1px 1px 1px);clip: rect(1px, 1px, 1px, 1px);height: 1px;margin: -1px;overflow: hidden;padding: 0;position: absolute;width: 1px;}#sk-container-id-7 div.sk-estimator {font-family: monospace;background-color: #f0f8ff;border: 1px dotted black;border-radius: 0.25em;box-sizing: border-box;margin-bottom: 0.5em;}#sk-container-id-7 div.sk-estimator:hover {background-color: #d4ebff;}#sk-container-id-7 div.sk-parallel-item::after {content: \"\";width: 100%;border-bottom: 1px solid gray;flex-grow: 1;}#sk-container-id-7 div.sk-label:hover label.sk-toggleable__label {background-color: #d4ebff;}#sk-container-id-7 div.sk-serial::before {content: \"\";position: absolute;border-left: 1px solid gray;box-sizing: border-box;top: 0;bottom: 0;left: 50%;z-index: 0;}#sk-container-id-7 div.sk-serial {display: flex;flex-direction: column;align-items: center;background-color: white;padding-right: 0.2em;padding-left: 0.2em;position: relative;}#sk-container-id-7 div.sk-item {position: relative;z-index: 1;}#sk-container-id-7 div.sk-parallel {display: flex;align-items: stretch;justify-content: center;background-color: white;position: relative;}#sk-container-id-7 div.sk-item::before, #sk-container-id-7 div.sk-parallel-item::before {content: \"\";position: absolute;border-left: 1px solid gray;box-sizing: border-box;top: 0;bottom: 0;left: 50%;z-index: -1;}#sk-container-id-7 div.sk-parallel-item {display: flex;flex-direction: column;z-index: 1;position: relative;background-color: white;}#sk-container-id-7 div.sk-parallel-item:first-child::after {align-self: flex-end;width: 50%;}#sk-container-id-7 div.sk-parallel-item:last-child::after {align-self: flex-start;width: 50%;}#sk-container-id-7 div.sk-parallel-item:only-child::after {width: 0;}#sk-container-id-7 div.sk-dashed-wrapped {border: 1px dashed gray;margin: 0 0.4em 0.5em 0.4em;box-sizing: border-box;padding-bottom: 0.4em;background-color: white;}#sk-container-id-7 div.sk-label label {font-family: monospace;font-weight: bold;display: inline-block;line-height: 1.2em;}#sk-container-id-7 div.sk-label-container {text-align: center;}#sk-container-id-7 div.sk-container {/* jupyter's `normalize.less` sets `[hidden] { display: none; }` but bootstrap.min.css set `[hidden] { display: none !important; }` so we also need the `!important` here to be able to override the default hidden behavior on the sphinx rendered scikit-learn.org. See: https://github.com/scikit-learn/scikit-learn/issues/21755 */display: inline-block !important;position: relative;}#sk-container-id-7 div.sk-text-repr-fallback {display: none;}</style><div id=\"sk-container-id-7\" class=\"sk-top-container\"><div class=\"sk-text-repr-fallback\"><pre>Pipeline(steps=[(&#x27;features_extraction&#x27;,\n",
       "                 FeaturesExtractionHAR(blocks_size=16,\n",
       "                                       statistics=&#x27;mean-median-std&#x27;)),\n",
       "                (&#x27;scaler&#x27;, scaler()),\n",
       "                (&#x27;LGBM&#x27;,\n",
       "                 LGBMClassifier(feature_fraction=0.75,\n",
       "                                lambda_l1=0.008840401399518267,\n",
       "                                lambda_l2=0.002389872230017185,\n",
       "                                learning_rate=0.005320673587684961,\n",
       "                                max_depth=23, min_child_weight=22,\n",
       "                                min_split_gain=0.0015901799134300236,\n",
       "                                n_estimators=120, num_leaves=71,\n",
       "                                random_state=123, verbose=-1))])</pre><b>In a Jupyter environment, please rerun this cell to show the HTML representation or trust the notebook. <br />On GitHub, the HTML representation is unable to render, please try loading this page with nbviewer.org.</b></div><div class=\"sk-container\" hidden><div class=\"sk-item sk-dashed-wrapped\"><div class=\"sk-label-container\"><div class=\"sk-label sk-toggleable\"><input class=\"sk-toggleable__control sk-hidden--visually\" id=\"sk-estimator-id-18\" type=\"checkbox\" ><label for=\"sk-estimator-id-18\" class=\"sk-toggleable__label sk-toggleable__label-arrow\">Pipeline</label><div class=\"sk-toggleable__content\"><pre>Pipeline(steps=[(&#x27;features_extraction&#x27;,\n",
       "                 FeaturesExtractionHAR(blocks_size=16,\n",
       "                                       statistics=&#x27;mean-median-std&#x27;)),\n",
       "                (&#x27;scaler&#x27;, scaler()),\n",
       "                (&#x27;LGBM&#x27;,\n",
       "                 LGBMClassifier(feature_fraction=0.75,\n",
       "                                lambda_l1=0.008840401399518267,\n",
       "                                lambda_l2=0.002389872230017185,\n",
       "                                learning_rate=0.005320673587684961,\n",
       "                                max_depth=23, min_child_weight=22,\n",
       "                                min_split_gain=0.0015901799134300236,\n",
       "                                n_estimators=120, num_leaves=71,\n",
       "                                random_state=123, verbose=-1))])</pre></div></div></div><div class=\"sk-serial\"><div class=\"sk-item\"><div class=\"sk-estimator sk-toggleable\"><input class=\"sk-toggleable__control sk-hidden--visually\" id=\"sk-estimator-id-19\" type=\"checkbox\" ><label for=\"sk-estimator-id-19\" class=\"sk-toggleable__label sk-toggleable__label-arrow\">FeaturesExtractionHAR</label><div class=\"sk-toggleable__content\"><pre>FeaturesExtractionHAR(blocks_size=16, statistics=&#x27;mean-median-std&#x27;)</pre></div></div></div><div class=\"sk-item\"><div class=\"sk-estimator sk-toggleable\"><input class=\"sk-toggleable__control sk-hidden--visually\" id=\"sk-estimator-id-20\" type=\"checkbox\" ><label for=\"sk-estimator-id-20\" class=\"sk-toggleable__label sk-toggleable__label-arrow\">scaler</label><div class=\"sk-toggleable__content\"><pre>scaler()</pre></div></div></div><div class=\"sk-item\"><div class=\"sk-estimator sk-toggleable\"><input class=\"sk-toggleable__control sk-hidden--visually\" id=\"sk-estimator-id-21\" type=\"checkbox\" ><label for=\"sk-estimator-id-21\" class=\"sk-toggleable__label sk-toggleable__label-arrow\">LGBMClassifier</label><div class=\"sk-toggleable__content\"><pre>LGBMClassifier(feature_fraction=0.75, lambda_l1=0.008840401399518267,\n",
       "               lambda_l2=0.002389872230017185,\n",
       "               learning_rate=0.005320673587684961, max_depth=23,\n",
       "               min_child_weight=22, min_split_gain=0.0015901799134300236,\n",
       "               n_estimators=120, num_leaves=71, random_state=123, verbose=-1)</pre></div></div></div></div></div></div></div>"
      ],
      "text/plain": [
       "Pipeline(steps=[('features_extraction',\n",
       "                 FeaturesExtractionHAR(blocks_size=16,\n",
       "                                       statistics='mean-median-std')),\n",
       "                ('scaler', scaler()),\n",
       "                ('LGBM',\n",
       "                 LGBMClassifier(feature_fraction=0.75,\n",
       "                                lambda_l1=0.008840401399518267,\n",
       "                                lambda_l2=0.002389872230017185,\n",
       "                                learning_rate=0.005320673587684961,\n",
       "                                max_depth=23, min_child_weight=22,\n",
       "                                min_split_gain=0.0015901799134300236,\n",
       "                                n_estimators=120, num_leaves=71,\n",
       "                                random_state=123, verbose=-1))])"
      ]
     },
     "execution_count": 620,
     "metadata": {},
     "output_type": "execute_result"
    }
   ],
   "source": [
    "final_pipeline.set_params(**best_params[best_pipeline_name])"
   ]
  }
 ],
 "metadata": {
  "kernelspec": {
   "display_name": "base",
   "language": "python",
   "name": "python3"
  },
  "language_info": {
   "codemirror_mode": {
    "name": "ipython",
    "version": 3
   },
   "file_extension": ".py",
   "mimetype": "text/x-python",
   "name": "python",
   "nbconvert_exporter": "python",
   "pygments_lexer": "ipython3",
   "version": "3.11.5"
  }
 },
 "nbformat": 4,
 "nbformat_minor": 2
}